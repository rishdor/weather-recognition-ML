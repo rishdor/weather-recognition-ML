{
  "nbformat": 4,
  "nbformat_minor": 0,
  "metadata": {
    "colab": {
      "provenance": [],
      "authorship_tag": "ABX9TyP6jvFOe89HUGciOdRkJbNr"
    },
    "kernelspec": {
      "name": "python3",
      "display_name": "Python 3"
    },
    "language_info": {
      "name": "python"
    }
  },
  "cells": [
    {
      "cell_type": "code",
      "execution_count": 3,
      "metadata": {
        "colab": {
          "base_uri": "https://localhost:8080/"
        },
        "id": "iIgQBgkrpkIW",
        "outputId": "244b4bc6-c5b7-4e6c-f2dd-bbf817d7a27f"
      },
      "outputs": [
        {
          "output_type": "stream",
          "name": "stdout",
          "text": [
            "Downloading...\n",
            "From: https://drive.google.com/uc?id=1EehgobYr1PaaDDAnFG03ZS6OLcHmqk1f\n",
            "To: /content/data.zip\n",
            "100% 6.56M/6.56M [00:00<00:00, 28.8MB/s]\n"
          ]
        }
      ],
      "source": [
        "!rm -rf data && mkdir data\n",
        "!gdown 1EehgobYr1PaaDDAnFG03ZS6OLcHmqk1f -O data.zip\n",
        "!unzip -q data.zip -d data"
      ]
    },
    {
      "cell_type": "code",
      "source": [
        "import glob as gl"
      ],
      "metadata": {
        "id": "-G2xXsyfr2ra"
      },
      "execution_count": null,
      "outputs": []
    },
    {
      "cell_type": "code",
      "source": [
        "image_count = len(list(gl.glob('/content/data/processed_dataset/*/*.jpg')))\n",
        "print(f'{image_count} examples of weather')\n",
        "\n",
        "categories = ['cloudy','foggy', 'lightning', 'rainbow', 'rainy', 'snow', 'sunny', 'sunrise']\n",
        "\n",
        "for category in categories:\n",
        "    count = len(list(gl.glob(f'/content/data/processed_dataset/{category}/*.jpg')))\n",
        "    print(f\"{category} count = {count}\")\n"
      ],
      "metadata": {
        "id": "yNHq4MpTrZhF"
      },
      "execution_count": null,
      "outputs": []
    },
    {
      "cell_type": "code",
      "source": [],
      "metadata": {
        "id": "tm6S4oTAr8SZ"
      },
      "execution_count": null,
      "outputs": []
    }
  ]
}